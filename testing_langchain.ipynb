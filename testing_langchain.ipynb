{
 "cells": [
  {
   "cell_type": "code",
   "execution_count": 1,
   "metadata": {},
   "outputs": [
    {
     "data": {
      "text/plain": [
       "True"
      ]
     },
     "execution_count": 1,
     "metadata": {},
     "output_type": "execute_result"
    }
   ],
   "source": [
    "from dotenv import load_dotenv\n",
    "load_dotenv()"
   ]
  },
  {
   "cell_type": "code",
   "execution_count": 2,
   "metadata": {},
   "outputs": [],
   "source": [
    "from langchain.prompts import (\n",
    "    PromptTemplate,\n",
    "    SystemMessagePromptTemplate,\n",
    "    HumanMessagePromptTemplate,\n",
    ")\n",
    "\n",
    "from langchain.output_parsers import PydanticOutputParser\n",
    "from pydantic import BaseModel, Field, validator\n",
    "from typing import List\n",
    "\n",
    "\n",
    "class GameUpdate(BaseModel):\n",
    "    player_message: str = Field(description=\"message that the player will see\")\n",
    "    inventory: List[str] = Field(description=\"list of items in the player's inventory\")\n",
    "    player_stats: List[int] = Field(\n",
    "        description=\"the player's stats (health, energy, gold)\"\n",
    "    )\n",
    "    action_options: List[str] = Field(\n",
    "        description=\"list of the player's action options in order\"\n",
    "    )\n",
    "    can_rest: bool = Field(description=\"whether the player can rest at the moment\")\n",
    "    can_heal: bool = Field(description=\"whether the player can heal at the moment\")\n",
    "\n",
    "    generate_image: bool = Field(\n",
    "        description=\"whether to generate an image of the game state\"\n",
    "    )\n",
    "\n",
    "    image_prompt: str = Field(\n",
    "        description=\"prompt to generate the image of the game state\"\n",
    "    )\n",
    "\n",
    "    \n",
    "    @validator(\"player_message\")\n",
    "    def player_message_must_be_string(cls, v):\n",
    "        if not isinstance(v, str):\n",
    "            raise TypeError(\"player_message must be a string\")\n",
    "        return v\n",
    "\n",
    "    @validator(\"inventory\")\n",
    "    def inventory_must_be_list(cls, v):\n",
    "        if not isinstance(v, list):\n",
    "            raise TypeError(\"inventory must be a list\")\n",
    "        return v\n",
    "\n",
    "    @validator(\"player_stats\")\n",
    "    def player_stats_must_be_list(cls, v):\n",
    "        if not isinstance(v, list):\n",
    "            raise TypeError(\"player_stats must be a list\")\n",
    "\n",
    "        # must be length 3\n",
    "        if len(v) != 3:\n",
    "            raise ValueError(\"player_stats must be length 3\")\n",
    "        \n",
    "        # must be integers\n",
    "        for stat in v:\n",
    "            if not isinstance(stat, int):\n",
    "                raise TypeError(\"player_stats must be a list of integers\")\n",
    "        return v\n",
    "\n",
    "    @validator(\"action_options\")\n",
    "    def action_options_must_be_list(cls, v):\n",
    "        if not isinstance(v, list):\n",
    "            raise TypeError(\"action_options must be a list\")\n",
    "\n",
    "        # must be length 3\n",
    "        if len(v) != 3:\n",
    "            raise ValueError(\"action_options must be length 3\")\n",
    "        \n",
    "        # must be strings\n",
    "        for option in v:\n",
    "            if not isinstance(option, str):\n",
    "                raise TypeError(\"action_options must be a list of strings\")\n",
    "        return v\n",
    "    \n",
    "    @validator(\"can_rest\")\n",
    "    def can_rest_must_be_bool(cls, v):\n",
    "        if not isinstance(v, bool):\n",
    "            raise TypeError(\"can_rest must be a bool\")\n",
    "        return v\n",
    "    \n",
    "    @validator(\"can_heal\")\n",
    "    def can_heal_must_be_bool(cls, v):\n",
    "        if not isinstance(v, bool):\n",
    "            raise TypeError(\"can_heal must be a bool\")\n",
    "        return v\n",
    "    \n",
    "\n",
    "parser = PydanticOutputParser(pydantic_object=GameUpdate)\n",
    "\n",
    "system_message_prompt_template = \"\"\"\n",
    "You are a text-based game master.\n",
    "You are leading the human player through a procedurally generated text-based game.\n",
    "The player has selected the following options:\n",
    "    - character: {char_type}\n",
    "    - location: {location}\n",
    "    - items: {items}\n",
    "\n",
    "The user is presented with very brief a description of their character and their current location.\n",
    "\n",
    "The player is prompted with a quest to complete early on in the game.\n",
    "The quest is different for each character type, location, and item selection.\n",
    "The game ends when the user has completed their quest. \n",
    "As a game master, you want the player to have a fun and engaging experience.\n",
    "You want the player to feel like they are in control of their character, but not so powerful that they can do anything.\n",
    "You want the player to finish the quest, but you don't want it to be too easy.\n",
    "The situations the player encounters should be interesting and varied, and have a fairly high chance of success.\n",
    "\n",
    "At each point, the user is presented with a list of actions they can take.\n",
    "The characters actions open-ended, but ultimitely limited, and depend on their character selection. \n",
    "For example, a mage can cast spells, but a knight cannot.\n",
    "There are always 3 options. They are procedurally generated and depend on the character type, location, items, and situation.\n",
    "The player can choose to take one of the actions, or to do something else.\n",
    "\n",
    "Players can also choose to heal or rest if possible \n",
    "(e.g. the player cannot rest if they are in combat, and cannot heal if they are not injured or do not have any healing items).\n",
    "\n",
    "The players stats are tracked throughout the game.\n",
    "The stats are:\n",
    "    - Health (starts at 100)\n",
    "    - Energy (starts at 100)\n",
    "    - Gold (starts at 0)\n",
    "    \n",
    "These stats are affected by the player's actions. \n",
    "Do not print these stats in the player_message, but do include them in the player_stats.\n",
    "    \n",
    "If the player's health reaches 0, the game ends.\n",
    "If the player's energy reaches 0, the player is unable to take any actions until they rest.\n",
    "If the player's gold reaches 0, the player is unable to purchase any items until they earn more gold.\n",
    "\n",
    "The player can earn gold by completing quests, or by selling items they find.\n",
    "The player can spend gold on items that will help them complete their quest.\n",
    "\n",
    "In certain exciting situations, the you should recomend that the game generate an image of the game state.\n",
    "For example, if the player comes upon a new enemy, or a breathtaking new location.\n",
    "The image_prompt is a string that will be passed to the image generator.\n",
    "It should be a short description of the visual elements of the game state. It should not contain any information that is not already in the player_message.\n",
    "\"\"\"\n",
    "\n",
    "system_message_prompt = SystemMessagePromptTemplate.from_template(\n",
    "    system_message_prompt_template\n",
    ")\n",
    "\n",
    "# #####################\n",
    "\n",
    "\n",
    "human_template = \"Respond to the players input.\\n{format_instructions}\\n{input}\"\n",
    "human_message_prompt_template = HumanMessagePromptTemplate.from_template(\n",
    "    human_template,\n",
    ")"
   ]
  },
  {
   "cell_type": "code",
   "execution_count": 4,
   "metadata": {},
   "outputs": [],
   "source": [
    "from langchain.prompts import (\n",
    "    ChatPromptTemplate,\n",
    "    MessagesPlaceholder,\n",
    "    SystemMessagePromptTemplate,\n",
    "    HumanMessagePromptTemplate,\n",
    "    AIMessagePromptTemplate,\n",
    ")\n",
    "from langchain.chains import ConversationChain\n",
    "from langchain.chat_models import ChatOpenAI\n",
    "from langchain.memory import ConversationBufferMemory\n",
    "from IPython.display import Image\n",
    "\n",
    "items = [\"laser baton\", \"magnetic shoes\", \"static grenade\"]\n",
    "location = \"abandoned building\"\n",
    "char_type = \"cyborg\"\n",
    "\n",
    "prompt = ChatPromptTemplate(\n",
    "    messages=[\n",
    "        system_message_prompt.format(\n",
    "            char_type=char_type, location=location, items=items\n",
    "        ),\n",
    "        MessagesPlaceholder(variable_name=\"history\"),\n",
    "        human_message_prompt_template,\n",
    "    ],\n",
    "    \n",
    "    input_variables=[\"history\", \"input\"],\n",
    "    partial_variables={\"format_instructions\": parser.get_format_instructions()},\n",
    ")\n",
    "\n",
    "chat_llm = ChatOpenAI(temperature=1)\n",
    "memory = ConversationBufferMemory(return_messages=True)\n",
    "conversation = ConversationChain(memory=memory, prompt=prompt, llm=chat_llm)\n",
    "\n",
    "response = conversation.predict(input=\"Let's Start\")\n",
    "game_update = parser.parse(response)\n"
   ]
  },
  {
   "cell_type": "code",
   "execution_count": 4,
   "metadata": {},
   "outputs": [],
   "source": [
    "response = conversation.predict(input=game_update.action_options[0])\n",
    "game_update = parser.parse(response)\n"
   ]
  },
  {
   "cell_type": "code",
   "execution_count": 5,
   "metadata": {},
   "outputs": [
    {
     "name": "stdout",
     "output_type": "stream",
     "text": [
      "Welcome to the abandoned building! As a cyborg, you are equipped with a laser baton, magnetic shoes, and a static grenade. Your goal is to locate and extract a valuable piece of technology hidden deep within the building.\n"
     ]
    }
   ],
   "source": [
    "print(game_update.player_message)"
   ]
  },
  {
   "cell_type": "code",
   "execution_count": 6,
   "metadata": {
    "notebookRunGroups": {
     "groupValue": ""
    }
   },
   "outputs": [
    {
     "data": {
      "text/plain": [
       "['Search the area', 'Hack into the security system', 'Proceed with caution']"
      ]
     },
     "execution_count": 6,
     "metadata": {},
     "output_type": "execute_result"
    }
   ],
   "source": [
    "game_update.action_options"
   ]
  },
  {
   "cell_type": "code",
   "execution_count": 7,
   "metadata": {},
   "outputs": [
    {
     "name": "stdout",
     "output_type": "stream",
     "text": [
      "{\n",
      "  \"player_message\": \"Welcome to the abandoned building! As a cyborg, you are equipped with a laser baton, magnetic shoes, and a static grenade. Your goal is to locate and extract a valuable piece of technology hidden deep within the building.\",\n",
      "  \"inventory\": [\n",
      "    \"laser baton\",\n",
      "    \"magnetic shoes\",\n",
      "    \"static grenade\"\n",
      "  ],\n",
      "  \"player_stats\": [100, 100, 0],\n",
      "  \"action_options\": [\n",
      "    \"Search the area\",\n",
      "    \"Hack into the security system\",\n",
      "    \"Proceed with caution\"\n",
      "  ],\n",
      "  \"can_rest\": true,\n",
      "  \"can_heal\": false,\n",
      "  \"generate_image\": false,\n",
      "  \"image_prompt\": \"\"\n",
      "}\n"
     ]
    }
   ],
   "source": [
    "print(response)"
   ]
  },
  {
   "cell_type": "code",
   "execution_count": 8,
   "metadata": {},
   "outputs": [
    {
     "data": {
      "text/plain": [
       "'https://oaidalleapiprodscus.blob.core.windows.net/private/org-3MkXL2eodP9fG13iG794QjSp/user-8DyY6pOUFDlAHg0begb8F7k7/img-TTVNM9cW1c96240SlIBjb4aP.png?st=2023-06-18T03%3A22%3A17Z&se=2023-06-18T05%3A22%3A17Z&sp=r&sv=2021-08-06&sr=b&rscd=inline&rsct=image/png&skoid=6aaadede-4fb3-4698-a8f6-684d7786b067&sktid=a48cca56-e6da-484e-a814-9c849652bcb3&skt=2023-06-17T20%3A53%3A54Z&ske=2023-06-18T20%3A53%3A54Z&sks=b&skv=2021-08-06&sig=NWcN992rm/c8H9S7s3%2BraXn/dA2JH3FUd8xHaWKOtzM%3D'"
      ]
     },
     "execution_count": 8,
     "metadata": {},
     "output_type": "execute_result"
    }
   ],
   "source": [
    "import openai\n",
    "response = openai.Image.create(\n",
    "  prompt=game_update.image_prompt,\n",
    "  n=1,\n",
    "  size=\"1024x1024\",\n",
    ")\n",
    "image_url = response['data'][0]['url']\n",
    "image_url\n"
   ]
  }
 ],
 "metadata": {
  "kernelspec": {
   "display_name": "vanilla",
   "language": "python",
   "name": "python3"
  },
  "language_info": {
   "codemirror_mode": {
    "name": "ipython",
    "version": 3
   },
   "file_extension": ".py",
   "mimetype": "text/x-python",
   "name": "python",
   "nbconvert_exporter": "python",
   "pygments_lexer": "ipython3",
   "version": "3.11.4"
  },
  "orig_nbformat": 4
 },
 "nbformat": 4,
 "nbformat_minor": 2
}
